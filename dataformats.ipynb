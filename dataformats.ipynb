{
  "nbformat": 4,
  "nbformat_minor": 0,
  "metadata": {
    "colab": {
      "provenance": []
    },
    "kernelspec": {
      "name": "python3",
      "display_name": "Python 3"
    },
    "language_info": {
      "name": "python"
    }
  },
  "cells": [
    {
      "cell_type": "code",
      "source": [
        "from pyspark.sql import SparkSession\n",
        "\n",
        "# Step 1: Start SparkSession\n",
        "spark = SparkSession.builder.appName(\"CSV Example\").getOrCreate()\n",
        "\n",
        "# Step 2: Create a sample DataFrame\n",
        "data = [\n",
        "    (\"Aashi\", 22, \"F\"),\n",
        "    (\"Raj\", 30, \"M\"),\n",
        "    (\"Neha\", 25, \"F\"),\n",
        "    (\"Ravi\", 28, \"M\"),\n",
        "    (\"Sneha\", 24, \"F\"),\n",
        "    (\"Aman\", 35, \"M\"),\n",
        "    (\"Pooja\", 27, \"F\"),\n",
        "    (\"Karan\", 40, \"M\"),\n",
        "    (\"Simran\", 23, \"F\"),\n",
        "    (\"Vikram\", 31, \"M\"),\n",
        "    (\"Nisha\", 26, \"F\"),\n",
        "    (\"Arjun\", 29, \"M\"),\n",
        "    (\"Tina\", 32, \"F\"),\n",
        "    (\"Rahul\", 21, \"M\"),\n",
        "    (\"Komal\", 34, \"F\")\n",
        "]\n",
        "columns = [\"name\", \"age\", \"gender\"]\n",
        "df = spark.createDataFrame(data, columns)\n",
        "df.show()"
      ],
      "metadata": {
        "colab": {
          "base_uri": "https://localhost:8080/"
        },
        "id": "UatsVm39M4fK",
        "outputId": "c075ebfc-463d-46fe-b44f-cc23b2f3fb47"
      },
      "execution_count": null,
      "outputs": [
        {
          "output_type": "stream",
          "name": "stdout",
          "text": [
            "+------+---+------+\n",
            "|  name|age|gender|\n",
            "+------+---+------+\n",
            "| Aashi| 22|     F|\n",
            "|   Raj| 30|     M|\n",
            "|  Neha| 25|     F|\n",
            "|  Ravi| 28|     M|\n",
            "| Sneha| 24|     F|\n",
            "|  Aman| 35|     M|\n",
            "| Pooja| 27|     F|\n",
            "| Karan| 40|     M|\n",
            "|Simran| 23|     F|\n",
            "|Vikram| 31|     M|\n",
            "| Nisha| 26|     F|\n",
            "| Arjun| 29|     M|\n",
            "|  Tina| 32|     F|\n",
            "| Rahul| 21|     M|\n",
            "| Komal| 34|     F|\n",
            "+------+---+------+\n",
            "\n"
          ]
        }
      ]
    },
    {
      "cell_type": "code",
      "source": [
        "df.write.option(\"header\", True).mode(\"overwrite\").csv(\"/tmp/data_formats/csv\")\n"
      ],
      "metadata": {
        "id": "MOMc8saiNXhF"
      },
      "execution_count": null,
      "outputs": []
    },
    {
      "cell_type": "code",
      "source": [
        "csv_df = spark.read.option(\"header\", True).csv(\"/tmp/data_formats/csv\")\n"
      ],
      "metadata": {
        "id": "VWmVj9TZNylq"
      },
      "execution_count": null,
      "outputs": []
    },
    {
      "cell_type": "code",
      "source": [
        "csv_df.createOrReplaceTempView(\"people\")"
      ],
      "metadata": {
        "id": "mBYf2VTtOGg8"
      },
      "execution_count": null,
      "outputs": []
    },
    {
      "cell_type": "code",
      "source": [
        "result = spark.sql(\"SELECT * FROM people\")\n",
        "result.show()"
      ],
      "metadata": {
        "colab": {
          "base_uri": "https://localhost:8080/"
        },
        "id": "gf4FsCWeOOF4",
        "outputId": "0545544c-4e0c-4550-d826-75041a290c11"
      },
      "execution_count": null,
      "outputs": [
        {
          "output_type": "stream",
          "name": "stdout",
          "text": [
            "+------+---+------+\n",
            "|  name|age|gender|\n",
            "+------+---+------+\n",
            "| Karan| 40|     M|\n",
            "|Simran| 23|     F|\n",
            "|Vikram| 31|     M|\n",
            "| Nisha| 26|     F|\n",
            "| Arjun| 29|     M|\n",
            "|  Tina| 32|     F|\n",
            "| Rahul| 21|     M|\n",
            "| Komal| 34|     F|\n",
            "| Aashi| 22|     F|\n",
            "|   Raj| 30|     M|\n",
            "|  Neha| 25|     F|\n",
            "|  Ravi| 28|     M|\n",
            "| Sneha| 24|     F|\n",
            "|  Aman| 35|     M|\n",
            "| Pooja| 27|     F|\n",
            "+------+---+------+\n",
            "\n"
          ]
        }
      ]
    },
    {
      "cell_type": "code",
      "source": [
        "maximum= spark.sql(\"SELECT MAX(age) FROM people\")\n",
        "maximum.show()"
      ],
      "metadata": {
        "colab": {
          "base_uri": "https://localhost:8080/"
        },
        "id": "dSypfmTEOWgc",
        "outputId": "39b5ab56-fac5-4e24-94f7-783d0899028b"
      },
      "execution_count": null,
      "outputs": [
        {
          "output_type": "stream",
          "name": "stdout",
          "text": [
            "+--------+\n",
            "|max(age)|\n",
            "+--------+\n",
            "|      40|\n",
            "+--------+\n",
            "\n"
          ]
        }
      ]
    },
    {
      "cell_type": "code",
      "source": [
        "minimum = spark.sql(\"SELECT MIN (age) from people\")\n",
        "minimum.show()"
      ],
      "metadata": {
        "colab": {
          "base_uri": "https://localhost:8080/"
        },
        "id": "RJ5Uqb41PbzT",
        "outputId": "c40daba9-c752-4b37-cd65-685d8c74061d"
      },
      "execution_count": null,
      "outputs": [
        {
          "output_type": "stream",
          "name": "stdout",
          "text": [
            "+--------+\n",
            "|min(age)|\n",
            "+--------+\n",
            "|      21|\n",
            "+--------+\n",
            "\n"
          ]
        }
      ]
    },
    {
      "cell_type": "code",
      "source": [
        "greater_age = spark.sql(\"SELECT * FROM people WHERE age > 30\")\n",
        "greater_age.show()"
      ],
      "metadata": {
        "colab": {
          "base_uri": "https://localhost:8080/"
        },
        "id": "NEymfR_dPoJh",
        "outputId": "b7df4d04-94c1-447b-e6a9-a5fa63b0c2c6"
      },
      "execution_count": null,
      "outputs": [
        {
          "output_type": "stream",
          "name": "stdout",
          "text": [
            "+------+---+------+\n",
            "|  name|age|gender|\n",
            "+------+---+------+\n",
            "| Karan| 40|     M|\n",
            "|Vikram| 31|     M|\n",
            "|  Tina| 32|     F|\n",
            "| Komal| 34|     F|\n",
            "|  Aman| 35|     M|\n",
            "+------+---+------+\n",
            "\n"
          ]
        }
      ]
    },
    {
      "cell_type": "code",
      "source": [
        "df.write.mode(\"overwrite\").json(\"/tmp/data_formats/json\")"
      ],
      "metadata": {
        "id": "hOJz2Ej9QVKN"
      },
      "execution_count": null,
      "outputs": []
    },
    {
      "cell_type": "code",
      "source": [
        "df_json = spark.read.option(\"multiline\", False).json(\"/tmp/data_formats/json\")\n",
        "df_json.show()"
      ],
      "metadata": {
        "colab": {
          "base_uri": "https://localhost:8080/"
        },
        "id": "o0MZ4Fxqx-tv",
        "outputId": "f9c8f84f-07b0-4788-859d-b1c15e0e511f"
      },
      "execution_count": null,
      "outputs": [
        {
          "output_type": "stream",
          "name": "stdout",
          "text": [
            "+---+------+------+\n",
            "|age|gender|  name|\n",
            "+---+------+------+\n",
            "| 40|     M| Karan|\n",
            "| 23|     F|Simran|\n",
            "| 31|     M|Vikram|\n",
            "| 26|     F| Nisha|\n",
            "| 29|     M| Arjun|\n",
            "| 32|     F|  Tina|\n",
            "| 21|     M| Rahul|\n",
            "| 34|     F| Komal|\n",
            "| 22|     F| Aashi|\n",
            "| 30|     M|   Raj|\n",
            "| 25|     F|  Neha|\n",
            "| 28|     M|  Ravi|\n",
            "| 24|     F| Sneha|\n",
            "| 35|     M|  Aman|\n",
            "| 27|     F| Pooja|\n",
            "+---+------+------+\n",
            "\n"
          ]
        }
      ]
    },
    {
      "cell_type": "code",
      "source": [
        "df_json.createOrReplaceTempView(\"json_table\")"
      ],
      "metadata": {
        "id": "tVv3qiCuyPSr"
      },
      "execution_count": null,
      "outputs": []
    },
    {
      "cell_type": "code",
      "source": [
        "df.write.mode(\"overwrite\").parquet(\"/tmp/data_formats/parquet\")"
      ],
      "metadata": {
        "id": "5HubpLPm0eYc"
      },
      "execution_count": null,
      "outputs": []
    },
    {
      "cell_type": "code",
      "source": [
        "df_parquet=spark.read.parquet(\"/tmp/data_formats/parquet\")\n",
        "df_parquet.show()"
      ],
      "metadata": {
        "colab": {
          "base_uri": "https://localhost:8080/"
        },
        "id": "ImWS9j9O0yE_",
        "outputId": "7e46cac9-1971-4565-e32c-2d30f58e8955"
      },
      "execution_count": null,
      "outputs": [
        {
          "output_type": "stream",
          "name": "stdout",
          "text": [
            "+------+---+------+\n",
            "|  name|age|gender|\n",
            "+------+---+------+\n",
            "| Karan| 40|     M|\n",
            "|Simran| 23|     F|\n",
            "|Vikram| 31|     M|\n",
            "| Nisha| 26|     F|\n",
            "| Arjun| 29|     M|\n",
            "|  Tina| 32|     F|\n",
            "| Rahul| 21|     M|\n",
            "| Komal| 34|     F|\n",
            "| Aashi| 22|     F|\n",
            "|   Raj| 30|     M|\n",
            "|  Neha| 25|     F|\n",
            "|  Ravi| 28|     M|\n",
            "| Sneha| 24|     F|\n",
            "|  Aman| 35|     M|\n",
            "| Pooja| 27|     F|\n",
            "+------+---+------+\n",
            "\n"
          ]
        }
      ]
    },
    {
      "cell_type": "code",
      "source": [
        "df_parquet.createOrReplaceTempView(\"parquet_table\")"
      ],
      "metadata": {
        "id": "DMNrqU1z0_1P"
      },
      "execution_count": null,
      "outputs": []
    },
    {
      "cell_type": "code",
      "source": [
        "result = spark.sql(\"select * from parquet_table\")\n",
        "result.show()"
      ],
      "metadata": {
        "colab": {
          "base_uri": "https://localhost:8080/"
        },
        "id": "AbR2eZ1k1SCw",
        "outputId": "8ab4e708-c1a8-48f0-d912-031c247ca7b3"
      },
      "execution_count": null,
      "outputs": [
        {
          "output_type": "stream",
          "name": "stdout",
          "text": [
            "+------+---+------+\n",
            "|  name|age|gender|\n",
            "+------+---+------+\n",
            "| Karan| 40|     M|\n",
            "|Simran| 23|     F|\n",
            "|Vikram| 31|     M|\n",
            "| Nisha| 26|     F|\n",
            "| Arjun| 29|     M|\n",
            "|  Tina| 32|     F|\n",
            "| Rahul| 21|     M|\n",
            "| Komal| 34|     F|\n",
            "| Aashi| 22|     F|\n",
            "|   Raj| 30|     M|\n",
            "|  Neha| 25|     F|\n",
            "|  Ravi| 28|     M|\n",
            "| Sneha| 24|     F|\n",
            "|  Aman| 35|     M|\n",
            "| Pooja| 27|     F|\n",
            "+------+---+------+\n",
            "\n"
          ]
        }
      ]
    },
    {
      "cell_type": "code",
      "source": [
        "df.write.format(\"orc\").mode(\"overwrite\").save(\"/tmp/data_formats/orc\")"
      ],
      "metadata": {
        "id": "SXUHaKsL1b1r"
      },
      "execution_count": null,
      "outputs": []
    },
    {
      "cell_type": "code",
      "source": [
        "df_orc=spark.read.format(\"orc\").load(\"/tmp/data_formats/orc\")\n",
        "df_orc.show()"
      ],
      "metadata": {
        "colab": {
          "base_uri": "https://localhost:8080/"
        },
        "id": "5duKam9J1q7M",
        "outputId": "bd39e6c8-c4f9-4744-ed88-1e3c0267d5dc"
      },
      "execution_count": null,
      "outputs": [
        {
          "output_type": "stream",
          "name": "stdout",
          "text": [
            "+------+---+------+\n",
            "|  name|age|gender|\n",
            "+------+---+------+\n",
            "| Karan| 40|     M|\n",
            "|Simran| 23|     F|\n",
            "|Vikram| 31|     M|\n",
            "| Nisha| 26|     F|\n",
            "| Arjun| 29|     M|\n",
            "|  Tina| 32|     F|\n",
            "| Rahul| 21|     M|\n",
            "| Komal| 34|     F|\n",
            "| Aashi| 22|     F|\n",
            "|   Raj| 30|     M|\n",
            "|  Neha| 25|     F|\n",
            "|  Ravi| 28|     M|\n",
            "| Sneha| 24|     F|\n",
            "|  Aman| 35|     M|\n",
            "| Pooja| 27|     F|\n",
            "+------+---+------+\n",
            "\n"
          ]
        }
      ]
    },
    {
      "cell_type": "code",
      "source": [
        "df_orc.createOrReplaceTempView(\"orc_table\")"
      ],
      "metadata": {
        "id": "7JvVEJPV2vRL"
      },
      "execution_count": null,
      "outputs": []
    },
    {
      "cell_type": "code",
      "source": [
        "result = spark.sql(\"select * from orc_table\")\n",
        "result.show()"
      ],
      "metadata": {
        "colab": {
          "base_uri": "https://localhost:8080/"
        },
        "id": "xGtgkZCp3DxR",
        "outputId": "20c2b6f7-f516-4acd-ff9c-6ea529d1b9e4"
      },
      "execution_count": null,
      "outputs": [
        {
          "output_type": "stream",
          "name": "stdout",
          "text": [
            "+------+---+------+\n",
            "|  name|age|gender|\n",
            "+------+---+------+\n",
            "| Karan| 40|     M|\n",
            "|Simran| 23|     F|\n",
            "|Vikram| 31|     M|\n",
            "| Nisha| 26|     F|\n",
            "| Arjun| 29|     M|\n",
            "|  Tina| 32|     F|\n",
            "| Rahul| 21|     M|\n",
            "| Komal| 34|     F|\n",
            "| Aashi| 22|     F|\n",
            "|   Raj| 30|     M|\n",
            "|  Neha| 25|     F|\n",
            "|  Ravi| 28|     M|\n",
            "| Sneha| 24|     F|\n",
            "|  Aman| 35|     M|\n",
            "| Pooja| 27|     F|\n",
            "+------+---+------+\n",
            "\n"
          ]
        }
      ]
    },
    {
      "cell_type": "code",
      "source": [],
      "metadata": {
        "id": "_dQwUrBR3Jde"
      },
      "execution_count": null,
      "outputs": []
    }
  ]
}